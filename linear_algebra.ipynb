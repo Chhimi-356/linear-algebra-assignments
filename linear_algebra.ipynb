{
 "cells": [
  {
   "cell_type": "code",
   "execution_count": 3,
   "metadata": {
    "ExecuteTime": {
     "end_time": "2020-11-19T18:27:44.123198Z",
     "start_time": "2020-11-19T18:27:44.115208Z"
    }
   },
   "outputs": [],
   "source": [
    "# what is linear algebra "
   ]
  },
  {
   "cell_type": "code",
   "execution_count": null,
   "metadata": {},
   "outputs": [],
   "source": []
  },
  {
   "cell_type": "markdown",
   "metadata": {},
   "source": [
    "#### Define a symmertic 3x3 matric and print the transpose of the symmetric matrix\n",
    "\n",
    "- This matrix is a 3x3 matrix because it has three rows and three columns"
   ]
  },
  {
   "cell_type": "markdown",
   "metadata": {},
   "source": [
    "- transpose of a matrix means flipping a matrix over its diagonal, meaning switching the row and cloumn indices.\n",
    "- formula: array.transpose(axes)\n",
    "    - axes could be none , tuple of int or n ints\n",
    "- properties of transpose= the transpose of the matrix is the matrix itself: (AT)=A. Transpose of a scalar multiple: The Transpoe of a matrix times a scalar(k) is equal to the consiant times the transpose of the matrix:(KA)\n",
    "- transpose of a sum= the transpose of the sum of the two matrices is equvalent to the sum of their transposes= (A+)T=AT+BT\n",
    "- Transpose of a product= the transpose of the product of two matrices is equivalent to the sum of their transposes= (A+B)T=AT+BT\n",
    "- THE SAME IS TRUE FOR THE PRODUCT OF MULTIPLE MATRICES= (ABC)T=CTBTAT"
   ]
  },
  {
   "cell_type": "markdown",
   "metadata": {},
   "source": [
    "#### Symmetric matrix\n",
    "- symmetric matrix is a square matrix that is equal to its transpose "
   ]
  },
  {
   "cell_type": "code",
   "execution_count": 1,
   "metadata": {
    "ExecuteTime": {
     "end_time": "2020-11-19T06:51:22.268219Z",
     "start_time": "2020-11-19T06:51:22.230254Z"
    }
   },
   "outputs": [
    {
     "data": {
      "text/plain": [
       "array([[1, 4, 7],\n",
       "       [4, 3, 6],\n",
       "       [7, 6, 2]])"
      ]
     },
     "execution_count": 1,
     "metadata": {},
     "output_type": "execute_result"
    }
   ],
   "source": [
    "a= np.array([[1,4,7],[4,3,6],[7,6,2]])\n",
    "a"
   ]
  },
  {
   "cell_type": "code",
   "execution_count": 2,
   "metadata": {
    "ExecuteTime": {
     "end_time": "2020-11-19T06:51:48.112517Z",
     "start_time": "2020-11-19T06:51:48.091532Z"
    }
   },
   "outputs": [
    {
     "data": {
      "text/plain": [
       "array([[1, 4, 7],\n",
       "       [4, 3, 6],\n",
       "       [7, 6, 2]])"
      ]
     },
     "execution_count": 2,
     "metadata": {},
     "output_type": "execute_result"
    }
   ],
   "source": [
    "a.transpose()"
   ]
  },
  {
   "cell_type": "markdown",
   "metadata": {},
   "source": [
    "#### with the 3x3 matrix calculate the \n",
    "- lower trangular matrix:\n",
    "    - a square matrix with all elements above the diagonal 0 is a lower trangular matrix\n",
    "    - the transpose of lwoer trangular matrix is upper trangular matrix\n",
    "    - the inverse of a lower trangular matrix is lower trangular matrix\n",
    "    - the product of two or more lower trangular matrix is also lower trangualr matrix\n",
    "    \n",
    "- upper trangular matrix :\n",
    "    - a square matrix with all elements below the diagonal 0 is a upper trnagular matrix\n",
    "    - the properties are similar to lower trangular matrix\n",
    "    \n",
    "    "
   ]
  },
  {
   "cell_type": "code",
   "execution_count": 9,
   "metadata": {
    "ExecuteTime": {
     "end_time": "2020-11-19T18:30:30.435997Z",
     "start_time": "2020-11-19T18:30:30.416017Z"
    }
   },
   "outputs": [
    {
     "name": "stdout",
     "output_type": "stream",
     "text": [
      "[[1 0 0]\n",
      " [1 1 0]\n",
      " [1 1 1]]\n"
     ]
    }
   ],
   "source": [
    "\n",
    "lower_triangular_matrix = np.array([[1,0,0],[1,1,0],[1,1,1]])\n",
    "print(lower_triangular_matrix)\n"
   ]
  },
  {
   "cell_type": "code",
   "execution_count": 11,
   "metadata": {
    "ExecuteTime": {
     "end_time": "2020-11-19T18:31:16.143361Z",
     "start_time": "2020-11-19T18:31:16.134372Z"
    }
   },
   "outputs": [
    {
     "name": "stdout",
     "output_type": "stream",
     "text": [
      "[[1 1 1]\n",
      " [0 1 1]\n",
      " [0 0 1]]\n"
     ]
    }
   ],
   "source": [
    "upper_triangular_matrix=lower_triangular_matrix.transpose()\n",
    "print(upper_triangular_matrix)"
   ]
  },
  {
   "cell_type": "markdown",
   "metadata": {},
   "source": [
    "#### define a 5x3 matrix and get the :\n",
    "- diagonal vector\n",
    "- get diagonal matrix form vector\n",
    "    - diagonal matrix has all values 0 outside the diagonal(also known as scaling matrix)"
   ]
  },
  {
   "cell_type": "code",
   "execution_count": 12,
   "metadata": {
    "ExecuteTime": {
     "end_time": "2020-11-19T18:37:31.903748Z",
     "start_time": "2020-11-19T18:37:31.883766Z"
    }
   },
   "outputs": [
    {
     "name": "stdout",
     "output_type": "stream",
     "text": [
      "[[ 0  1  2]\n",
      " [ 3  4  5]\n",
      " [ 6  7  8]\n",
      " [ 9 10 11]\n",
      " [12 13 14]]\n",
      "[0 4 8]\n"
     ]
    },
    {
     "data": {
      "text/plain": [
       "array([[0, 0, 0],\n",
       "       [0, 4, 0],\n",
       "       [0, 0, 8]])"
      ]
     },
     "execution_count": 12,
     "metadata": {},
     "output_type": "execute_result"
    }
   ],
   "source": [
    "a= np.arange(15).reshape(5,3)\n",
    "print(a)\n",
    "print(np.diag(a))\n",
    "np.diag(np.diag(a))"
   ]
  },
  {
   "cell_type": "markdown",
   "metadata": {},
   "source": [
    "#### create a identity matrix\n",
    "- a diagonal matrix with values 1 at its diagonals\n",
    "- multiplying any matrix with identiry matrix results in the matrix itself\n",
    "- the product of any two inverse matrices is always identiry matrix"
   ]
  },
  {
   "cell_type": "code",
   "execution_count": 14,
   "metadata": {
    "ExecuteTime": {
     "end_time": "2020-11-19T18:41:00.130153Z",
     "start_time": "2020-11-19T18:41:00.118164Z"
    }
   },
   "outputs": [
    {
     "name": "stdout",
     "output_type": "stream",
     "text": [
      "[[1 0 0 0]\n",
      " [0 1 0 0]\n",
      " [0 0 1 0]\n",
      " [0 0 0 1]]\n"
     ]
    }
   ],
   "source": [
    "a=np.identity(4, dtype=int)\n",
    "print(a)"
   ]
  },
  {
   "cell_type": "markdown",
   "metadata": {},
   "source": [
    "#### define a orthogonal matrix and get:\n",
    "- inverse of matrix\n",
    "- show that  Q.QT=I \n",
    "- where Q is the orthogonal matrix"
   ]
  },
  {
   "cell_type": "markdown",
   "metadata": {},
   "source": [
    "- a square matrix with real number or elements is said to be an orthogonal matrix.if its transpose is equal to its \n",
    "  inverse matrix or we can say, when the product of a square matrix and its transpose gives an identity matrix, \n",
    "    then the square matrix is known as an orthogonal matrix"
   ]
  },
  {
   "cell_type": "code",
   "execution_count": null,
   "metadata": {},
   "outputs": [],
   "source": [
    "    q=np.array([[]])"
   ]
  },
  {
   "cell_type": "code",
   "execution_count": null,
   "metadata": {},
   "outputs": [],
   "source": []
  },
  {
   "cell_type": "markdown",
   "metadata": {},
   "source": [
    "#### Define a matrix and calulate the trace of matrix"
   ]
  },
  {
   "cell_type": "markdown",
   "metadata": {},
   "source": [
    "- trace of matrix is the sum of its diagonal elements"
   ]
  },
  {
   "cell_type": "code",
   "execution_count": 15,
   "metadata": {
    "ExecuteTime": {
     "end_time": "2020-11-19T18:50:53.425897Z",
     "start_time": "2020-11-19T18:50:53.413907Z"
    }
   },
   "outputs": [
    {
     "name": "stdout",
     "output_type": "stream",
     "text": [
      "[[0 1 2]\n",
      " [3 4 5]\n",
      " [6 7 8]]\n"
     ]
    }
   ],
   "source": [
    "a=np.arange(9).reshape(3,3)\n",
    "print(a)"
   ]
  },
  {
   "cell_type": "code",
   "execution_count": 16,
   "metadata": {
    "ExecuteTime": {
     "end_time": "2020-11-19T18:51:06.331164Z",
     "start_time": "2020-11-19T18:51:06.322173Z"
    }
   },
   "outputs": [
    {
     "data": {
      "text/plain": [
       "12"
      ]
     },
     "execution_count": 16,
     "metadata": {},
     "output_type": "execute_result"
    }
   ],
   "source": [
    "np.trace(a)"
   ]
  },
  {
   "cell_type": "markdown",
   "metadata": {
    "ExecuteTime": {
     "end_time": "2020-11-19T18:51:47.524584Z",
     "start_time": "2020-11-19T18:51:47.508597Z"
    }
   },
   "source": [
    "#### define a 3x3 matrix and calc determinant, ie not invertable"
   ]
  },
  {
   "cell_type": "markdown",
   "metadata": {},
   "source": [
    "- Determinant is a very useful value in linear algebra. It calculated from the diagonal elements\n",
    "of a square matrix. For a 2x2 matrix, it is simply the subtraction of the product of the top left\n",
    "and bottom right element from the product of other two.\n",
    "\n",
    "- In other words, for a matrix [[a,b], [c,d]], the determinant is computed as ‘ad-bc’. \n",
    "The larger square matrices are considered to be a combination of 2x2 matrices."
   ]
  },
  {
   "cell_type": "code",
   "execution_count": 29,
   "metadata": {
    "ExecuteTime": {
     "end_time": "2020-11-19T19:07:06.536570Z",
     "start_time": "2020-11-19T19:07:06.516592Z"
    }
   },
   "outputs": [
    {
     "name": "stdout",
     "output_type": "stream",
     "text": [
      "[[ 2  3  4]\n",
      " [ 5  6  7]\n",
      " [ 8  9 10]]\n",
      "0.0\n"
     ]
    }
   ],
   "source": [
    "x = np.arange(2,11).reshape(3,3)\n",
    "print(x)\n",
    "print (np.linalg.det(x))"
   ]
  },
  {
   "cell_type": "markdown",
   "metadata": {},
   "source": [
    "#### create a 2x2 matrix , 1x3 matrix and calculate the rank of the matrix"
   ]
  },
  {
   "cell_type": "markdown",
   "metadata": {},
   "source": [
    "- the rank is how many of the rows/columns are unique(independant)\n",
    "- rank is useful as it lets us know if we have chance of solving a system of linear equations: when \n",
    "    the rank equal the number of variable we many be able find the unique solution\n",
    "    "
   ]
  },
  {
   "cell_type": "code",
   "execution_count": 31,
   "metadata": {
    "ExecuteTime": {
     "end_time": "2020-11-19T19:15:34.627415Z",
     "start_time": "2020-11-19T19:15:34.552550Z"
    }
   },
   "outputs": [
    {
     "name": "stdout",
     "output_type": "stream",
     "text": [
      "[[4 7]\n",
      " [2 2]]\n",
      "2\n"
     ]
    }
   ],
   "source": [
    "data_1 = np.random.randint(10,size=(2,2))\n",
    "print(data_1)\n",
    "print(np.linalg.matrix_rank(data_1))"
   ]
  },
  {
   "cell_type": "code",
   "execution_count": 36,
   "metadata": {
    "ExecuteTime": {
     "end_time": "2020-11-19T19:17:48.649291Z",
     "start_time": "2020-11-19T19:17:48.636300Z"
    }
   },
   "outputs": [
    {
     "name": "stdout",
     "output_type": "stream",
     "text": [
      "[[ 1  6 15]]\n",
      "1\n"
     ]
    }
   ],
   "source": [
    "one_three= np.random.randint(20,size=(1,3))\n",
    "print(one_three)\n",
    "print(np.linalg.matrix_rank(one_three))"
   ]
  },
  {
   "cell_type": "markdown",
   "metadata": {},
   "source": [
    "#### create a 3*6 matrix with zeros and ones and count the zeros in matrix\n",
    "- also find the size of matrix\n",
    "- calculate the matrix sparsity: count of zeros / size of matrix"
   ]
  },
  {
   "cell_type": "code",
   "execution_count": 42,
   "metadata": {
    "ExecuteTime": {
     "end_time": "2020-11-19T19:22:51.367677Z",
     "start_time": "2020-11-19T19:22:51.348699Z"
    }
   },
   "outputs": [
    {
     "name": "stdout",
     "output_type": "stream",
     "text": [
      "[[1. 0. 0. 0. 0. 0.]\n",
      " [0. 1. 0. 0. 0. 0.]\n",
      " [0. 0. 1. 0. 0. 0.]]\n"
     ]
    }
   ],
   "source": [
    "# np.eye= return a 2D array with ones on the diagonal and zeros elesehere\n",
    "z = np.eye(3,6)\n",
    "print(z)"
   ]
  },
  {
   "cell_type": "code",
   "execution_count": 45,
   "metadata": {
    "ExecuteTime": {
     "end_time": "2020-11-19T19:29:07.198887Z",
     "start_time": "2020-11-19T19:29:07.182904Z"
    }
   },
   "outputs": [
    {
     "name": "stdout",
     "output_type": "stream",
     "text": [
      "15\n",
      "(3, 6)\n"
     ]
    }
   ],
   "source": [
    "print(np.sum(z==0))\n",
    "print(z.shape)"
   ]
  },
  {
   "cell_type": "markdown",
   "metadata": {},
   "source": [
    "- The number of zero-valued elements divided by the total number of elements (e.g., m × n for an m × n matrix) \n",
    "    is sometimes referred to as the sparsity of the matrix. Conceptually, sparsity corresponds to systems \n",
    "    with few pairwise interactions."
   ]
  },
  {
   "cell_type": "code",
   "execution_count": 46,
   "metadata": {
    "ExecuteTime": {
     "end_time": "2020-11-19T19:30:04.467177Z",
     "start_time": "2020-11-19T19:30:04.450194Z"
    }
   },
   "outputs": [
    {
     "name": "stdout",
     "output_type": "stream",
     "text": [
      "sparsity of the matrix\n",
      "0.8333333333333334\n"
     ]
    }
   ],
   "source": [
    "print(\"sparsity of the matrix\")\n",
    "print((np.sum(z==0))/np.prod(z.shape))"
   ]
  },
  {
   "cell_type": "markdown",
   "metadata": {},
   "source": [
    "#### convert the sparse using csr method and again reconstruct to dense\n",
    "- A = array([ [1, 0, 0, 1, 0, 0], [0, 0, 2, 0, 0, 1], [0, 0, 0, 2, 0, 0] ]) #dense matrix"
   ]
  },
  {
   "cell_type": "code",
   "execution_count": 48,
   "metadata": {
    "ExecuteTime": {
     "end_time": "2020-11-19T19:34:01.441623Z",
     "start_time": "2020-11-19T19:34:01.427636Z"
    }
   },
   "outputs": [
    {
     "name": "stdout",
     "output_type": "stream",
     "text": [
      "  (0, 0)\t1\n",
      "  (0, 3)\t1\n",
      "  (1, 2)\t2\n",
      "  (1, 5)\t1\n",
      "  (2, 3)\t2\n"
     ]
    }
   ],
   "source": [
    "from scipy import sparse\n",
    "A= np.array([ [1, 0, 0, 1, 0, 0], [0, 0, 2, 0, 0, 1], [0, 0, 0, 2, 0, 0] ])\n",
    "print(sparse.csr_matrix(A))"
   ]
  },
  {
   "cell_type": "markdown",
   "metadata": {},
   "source": [
    "#### define a tensor of matrix of shape(3,3,3)\n",
    "- it is a multi-dimensiional array\n",
    "- vector - 1 dimensional \n",
    "- matrix- 2 dimensional \n",
    "- if more than two dimensional , it is called tensor\n"
   ]
  },
  {
   "cell_type": "code",
   "execution_count": 1,
   "metadata": {
    "ExecuteTime": {
     "end_time": "2020-11-18T08:34:55.481930Z",
     "start_time": "2020-11-18T08:34:55.464947Z"
    }
   },
   "outputs": [
    {
     "name": "stdout",
     "output_type": "stream",
     "text": [
      "[[[ 0  1  2]\n",
      "  [ 3  4  5]\n",
      "  [ 6  7  8]]\n",
      "\n",
      " [[ 9 10 11]\n",
      "  [12 13 14]\n",
      "  [15 16 17]]\n",
      "\n",
      " [[18 19 20]\n",
      "  [21 22 23]\n",
      "  [24 25 26]]]\n"
     ]
    }
   ],
   "source": [
    "G = np.arange(3*3*3).reshape(3,3,3)\n",
    "print(G)"
   ]
  },
  {
   "cell_type": "code",
   "execution_count": 3,
   "metadata": {
    "ExecuteTime": {
     "end_time": "2020-11-18T08:46:18.045543Z",
     "start_time": "2020-11-18T08:46:18.038549Z"
    }
   },
   "outputs": [
    {
     "data": {
      "text/plain": [
       "array([[ 0,  3,  6],\n",
       "       [ 9, 12, 15],\n",
       "       [18, 21, 24]])"
      ]
     },
     "execution_count": 3,
     "metadata": {},
     "output_type": "execute_result"
    }
   ],
   "source": [
    "G[:,:,0] # Column from the tensor"
   ]
  },
  {
   "cell_type": "markdown",
   "metadata": {},
   "source": [
    "#### create a 2 tensor of size(3,3,3) and perform:\n",
    "- tensor additon\n",
    "- tensor substraction"
   ]
  },
  {
   "cell_type": "code",
   "execution_count": 9,
   "metadata": {
    "ExecuteTime": {
     "end_time": "2020-11-18T09:10:58.024358Z",
     "start_time": "2020-11-18T09:10:58.006378Z"
    }
   },
   "outputs": [
    {
     "name": "stdout",
     "output_type": "stream",
     "text": [
      "[[[26 25 24]\n",
      "  [23 22 21]\n",
      "  [20 19 18]]\n",
      "\n",
      " [[17 16 15]\n",
      "  [14 13 12]\n",
      "  [11 10  9]]\n",
      "\n",
      " [[ 8  7  6]\n",
      "  [ 5  4  3]\n",
      "  [ 2  1  0]]]\n",
      "-------\n",
      "[17 16 15]\n"
     ]
    }
   ],
   "source": [
    "\n",
    "F1 = G[:,:,0]\n",
    "F2=G[:,:,-1]\n",
    "G_reversed= G[::-1, ::-1, ::-1]\n",
    "print(G_reversed)\n",
    "print(\"-------\")\n",
    "print(G_reversed[1,0,:])\n",
    "\n"
   ]
  },
  {
   "cell_type": "code",
   "execution_count": 11,
   "metadata": {
    "ExecuteTime": {
     "end_time": "2020-11-18T09:12:42.228234Z",
     "start_time": "2020-11-18T09:12:42.218241Z"
    }
   },
   "outputs": [
    {
     "name": "stdout",
     "output_type": "stream",
     "text": [
      "[[[26 26 26]\n",
      "  [26 26 26]\n",
      "  [26 26 26]]\n",
      "\n",
      " [[26 26 26]\n",
      "  [26 26 26]\n",
      "  [26 26 26]]\n",
      "\n",
      " [[26 26 26]\n",
      "  [26 26 26]\n",
      "  [26 26 26]]]\n",
      "-------\n",
      "[[[-26 -24 -22]\n",
      "  [-20 -18 -16]\n",
      "  [-14 -12 -10]]\n",
      "\n",
      " [[ -8  -6  -4]\n",
      "  [ -2   0   2]\n",
      "  [  4   6   8]]\n",
      "\n",
      " [[ 10  12  14]\n",
      "  [ 16  18  20]\n",
      "  [ 22  24  26]]]\n"
     ]
    }
   ],
   "source": [
    "Gsum= G + G_reversed\n",
    "print(Gsum)\n",
    "print(\"-------\")\n",
    "Gsubstr= G - G_reversed\n",
    "print(Gsubstr)"
   ]
  },
  {
   "cell_type": "code",
   "execution_count": null,
   "metadata": {},
   "outputs": [],
   "source": [
    "#### perfrom a Hadamard product for the above tensor "
   ]
  },
  {
   "cell_type": "code",
   "execution_count": 13,
   "metadata": {
    "ExecuteTime": {
     "end_time": "2020-11-18T09:13:37.203058Z",
     "start_time": "2020-11-18T09:13:37.195066Z"
    }
   },
   "outputs": [
    {
     "name": "stdout",
     "output_type": "stream",
     "text": [
      "[[[  0  25  48]\n",
      "  [ 69  88 105]\n",
      "  [120 133 144]]\n",
      "\n",
      " [[153 160 165]\n",
      "  [168 169 168]\n",
      "  [165 160 153]]\n",
      "\n",
      " [[144 133 120]\n",
      "  [105  88  69]\n",
      "  [ 48  25   0]]]\n"
     ]
    }
   ],
   "source": [
    "Ghadamard = G * G_reversed\n",
    "print(Ghadamard)"
   ]
  },
  {
   "cell_type": "code",
   "execution_count": 14,
   "metadata": {
    "ExecuteTime": {
     "end_time": "2020-11-18T09:14:14.479986Z",
     "start_time": "2020-11-18T09:14:14.468996Z"
    }
   },
   "outputs": [
    {
     "name": "stdout",
     "output_type": "stream",
     "text": [
      "[[[  0  25  48]\n",
      "  [ 69  88 105]\n",
      "  [120 133 144]]\n",
      "\n",
      " [[153 160 165]\n",
      "  [168 169 168]\n",
      "  [165 160 153]]\n",
      "\n",
      " [[144 133 120]\n",
      "  [105  88  69]\n",
      "  [ 48  25   0]]]\n"
     ]
    }
   ],
   "source": [
    "Gh = np.multiply(G,G_reversed)\n",
    "print(Gh)"
   ]
  },
  {
   "cell_type": "markdown",
   "metadata": {},
   "source": [
    "#### Perform a Tensor division for a tensor of shape T1 and T2 of shape(4,3,3)"
   ]
  },
  {
   "cell_type": "code",
   "execution_count": 17,
   "metadata": {
    "ExecuteTime": {
     "end_time": "2020-11-18T09:19:27.341680Z",
     "start_time": "2020-11-18T09:19:27.320700Z"
    }
   },
   "outputs": [
    {
     "name": "stdout",
     "output_type": "stream",
     "text": [
      "[[[ 0  1  2]\n",
      "  [ 3  4  5]\n",
      "  [ 6  7  8]]\n",
      "\n",
      " [[ 9 10 11]\n",
      "  [12 13 14]\n",
      "  [15 16 17]]\n",
      "\n",
      " [[18 19 20]\n",
      "  [21 22 23]\n",
      "  [24 25 26]]\n",
      "\n",
      " [[27 28 29]\n",
      "  [30 31 32]\n",
      "  [33 34 35]]]\n",
      "-------\n",
      "[[[ 0.          0.04761905  0.08333333]\n",
      "  [ 1.5         0.18181818  1.25      ]\n",
      "  [ 0.20689655  0.25925926  1.6       ]]\n",
      "\n",
      " [[ 0.47368421  5.          0.40740741]\n",
      "  [ 0.8         2.16666667  0.4516129 ]\n",
      "  [ 0.42857143  1.45454545  1.13333333]]\n",
      "\n",
      " [[ 0.54545455  0.61290323  1.05263158]\n",
      "  [21.          1.46666667  1.04545455]\n",
      "  [ 0.92307692  1.04166667  1.23809524]]\n",
      "\n",
      " [[ 0.77142857  1.47368421  1.        ]\n",
      "  [ 1.2        10.33333333  4.        ]\n",
      "  [ 5.5         2.26666667  1.34615385]]]\n"
     ]
    }
   ],
   "source": [
    "K = np.arange(4*3*3).reshape(4,3,3)\n",
    "print(K)\n",
    "L = np.random.randint(1,36,(4,3,3))\n",
    "M1= np.divide(K,L)\n",
    "print(\"-------\")\n",
    "M2 = K/L\n",
    "print(M2)"
   ]
  },
  {
   "cell_type": "markdown",
   "metadata": {},
   "source": [
    "#### define a 2 tensor of 2x2 and calculate the tensor product"
   ]
  },
  {
   "cell_type": "code",
   "execution_count": 21,
   "metadata": {
    "ExecuteTime": {
     "end_time": "2020-11-18T09:27:28.218619Z",
     "start_time": "2020-11-18T09:27:28.196639Z"
    }
   },
   "outputs": [
    {
     "name": "stdout",
     "output_type": "stream",
     "text": [
      "[[[[ 0  0]\n",
      "   [ 0  0]]\n",
      "\n",
      "  [[ 8 10]\n",
      "   [ 5  8]]]\n",
      "\n",
      "\n",
      " [[[16 20]\n",
      "   [10 16]]\n",
      "\n",
      "  [[24 30]\n",
      "   [15 24]]]]\n"
     ]
    }
   ],
   "source": [
    "N= np.arange(2*2).reshape(2,2)\n",
    "P= np.random.randint(1,11,(2,2))\n",
    "Np= np.tensordot(N,P, axes=0)\n",
    "print(Np)"
   ]
  },
  {
   "cell_type": "code",
   "execution_count": 23,
   "metadata": {
    "ExecuteTime": {
     "end_time": "2020-11-18T09:28:07.303942Z",
     "start_time": "2020-11-18T09:28:07.293951Z"
    }
   },
   "outputs": [
    {
     "name": "stdout",
     "output_type": "stream",
     "text": [
      "[[ 5  8]\n",
      " [31 44]]\n"
     ]
    }
   ],
   "source": [
    "Nprod=np.dot(N,P)\n",
    "print(Nprod)"
   ]
  },
  {
   "cell_type": "code",
   "execution_count": 24,
   "metadata": {
    "ExecuteTime": {
     "end_time": "2020-11-18T09:28:23.550614Z",
     "start_time": "2020-11-18T09:28:23.529630Z"
    }
   },
   "outputs": [
    {
     "name": "stdout",
     "output_type": "stream",
     "text": [
      "[[ 0  0  8 10]\n",
      " [ 0  0  5  8]\n",
      " [16 20 24 30]\n",
      " [10 16 15 24]]\n"
     ]
    }
   ],
   "source": [
    "print(np.kron(N,P))"
   ]
  },
  {
   "cell_type": "markdown",
   "metadata": {},
   "source": [
    "#### calulate the factorization factors a matrix(Lu) decompostion for an array of shape 3x3"
   ]
  },
  {
   "cell_type": "code",
   "execution_count": 27,
   "metadata": {
    "ExecuteTime": {
     "end_time": "2020-11-18T09:35:29.355953Z",
     "start_time": "2020-11-18T09:35:28.974317Z"
    }
   },
   "outputs": [
    {
     "name": "stdout",
     "output_type": "stream",
     "text": [
      "[[6 7 7]\n",
      " [8 7 5]\n",
      " [8 0 4]]\n"
     ]
    },
    {
     "ename": "NameError",
     "evalue": "name 'scipy' is not defined",
     "output_type": "error",
     "traceback": [
      "\u001b[1;31m---------------------------------------------------------------------------\u001b[0m",
      "\u001b[1;31mNameError\u001b[0m                                 Traceback (most recent call last)",
      "\u001b[1;32m<ipython-input-27-0b241b17915b>\u001b[0m in \u001b[0;36m<module>\u001b[1;34m\u001b[0m\n\u001b[0;32m      3\u001b[0m \u001b[0mS\u001b[0m\u001b[1;33m=\u001b[0m \u001b[0mnp\u001b[0m\u001b[1;33m.\u001b[0m\u001b[0mrandom\u001b[0m\u001b[1;33m.\u001b[0m\u001b[0mrandint\u001b[0m\u001b[1;33m(\u001b[0m\u001b[1;36m0\u001b[0m\u001b[1;33m,\u001b[0m\u001b[1;36m10\u001b[0m\u001b[1;33m,\u001b[0m\u001b[1;33m(\u001b[0m\u001b[1;36m3\u001b[0m\u001b[1;33m,\u001b[0m\u001b[1;36m3\u001b[0m\u001b[1;33m)\u001b[0m\u001b[1;33m)\u001b[0m\u001b[1;33m\u001b[0m\u001b[1;33m\u001b[0m\u001b[0m\n\u001b[0;32m      4\u001b[0m \u001b[0mprint\u001b[0m\u001b[1;33m(\u001b[0m\u001b[0mS\u001b[0m\u001b[1;33m)\u001b[0m\u001b[1;33m\u001b[0m\u001b[1;33m\u001b[0m\u001b[0m\n\u001b[1;32m----> 5\u001b[1;33m \u001b[0mS1\u001b[0m\u001b[1;33m=\u001b[0m \u001b[0mscipy\u001b[0m\u001b[1;33m.\u001b[0m\u001b[0mlinalg\u001b[0m\u001b[1;33m\u001b[0m\u001b[1;33m\u001b[0m\u001b[0m\n\u001b[0m",
      "\u001b[1;31mNameError\u001b[0m: name 'scipy' is not defined"
     ]
    }
   ],
   "source": [
    "\n",
    "from scipy import linalg\n",
    "\n",
    "S= np.random.randint(0,10,(3,3))\n",
    "print(S)\n",
    "S1= scipy.linalg"
   ]
  },
  {
   "cell_type": "markdown",
   "metadata": {},
   "source": [
    "- what is lu decomposition ?\n",
    "    -  LU stands for 'Lower Upper', and so an LU decomposition of a matrix A is a decomposition so that.\n",
    "    A=LU. where L is lower triangular and U is upper triangular. Now, LU decomposition is \n",
    "    essentially gaussian elimination, but we work only with the matrix A (as opposed to the augmented matrix\n"
   ]
  },
  {
   "cell_type": "markdown",
   "metadata": {},
   "source": [
    "#### from a matrix of shape 3x2\n",
    "- calculate the QR decompostion\n",
    "- reconstruct the original matrix "
   ]
  },
  {
   "cell_type": "code",
   "execution_count": null,
   "metadata": {},
   "outputs": [],
   "source": []
  },
  {
   "cell_type": "markdown",
   "metadata": {},
   "source": [
    "#### Define a 3x3 matrix calculate:\n",
    "- cholesky decomposition using lower factorize\n",
    "- reconstruct the original matrix"
   ]
  },
  {
   "cell_type": "code",
   "execution_count": null,
   "metadata": {},
   "outputs": [],
   "source": []
  },
  {
   "cell_type": "markdown",
   "metadata": {},
   "source": [
    "#### define a 3x3 matrix and calculate the:\n",
    "- eigendecomposition\n",
    "    - it is also called sepcial decomposition\n",
    "    - applicale for square matrix. A with linearly independent eigenvectors(not necessarily distince eigenvalues)\n",
    "   -  A=V D V^{-1}"
   ]
  },
  {
   "cell_type": "code",
   "execution_count": 54,
   "metadata": {
    "ExecuteTime": {
     "end_time": "2020-11-19T20:01:46.795356Z",
     "start_time": "2020-11-19T20:01:46.759390Z"
    }
   },
   "outputs": [
    {
     "ename": "LinAlgError",
     "evalue": "1-dimensional array given. Array must be at least two-dimensional",
     "output_type": "error",
     "traceback": [
      "\u001b[1;31m---------------------------------------------------------------------------\u001b[0m",
      "\u001b[1;31mLinAlgError\u001b[0m                               Traceback (most recent call last)",
      "\u001b[1;32m<ipython-input-54-d36cfea3e214>\u001b[0m in \u001b[0;36m<module>\u001b[1;34m\u001b[0m\n\u001b[0;32m      1\u001b[0m \u001b[0mA\u001b[0m \u001b[1;33m=\u001b[0m \u001b[0mnp\u001b[0m\u001b[1;33m.\u001b[0m\u001b[0marray\u001b[0m\u001b[1;33m(\u001b[0m\u001b[1;33m[\u001b[0m\u001b[1;33m[\u001b[0m\u001b[1;36m1\u001b[0m\u001b[1;33m,\u001b[0m\u001b[1;36m0\u001b[0m\u001b[1;33m,\u001b[0m\u001b[1;36m0\u001b[0m\u001b[1;33m]\u001b[0m\u001b[1;33m,\u001b[0m \u001b[1;33m[\u001b[0m\u001b[1;33m-\u001b[0m\u001b[1;36m1\u001b[0m\u001b[1;33m,\u001b[0m\u001b[1;36m2\u001b[0m\u001b[1;33m,\u001b[0m\u001b[1;36m1\u001b[0m\u001b[1;33m,\u001b[0m\u001b[1;36m5\u001b[0m\u001b[1;33m]\u001b[0m\u001b[1;33m,\u001b[0m\u001b[1;33m[\u001b[0m\u001b[1;36m0\u001b[0m\u001b[1;33m,\u001b[0m\u001b[1;36m0\u001b[0m\u001b[1;33m,\u001b[0m\u001b[1;33m-\u001b[0m\u001b[1;36m1\u001b[0m\u001b[1;33m]\u001b[0m\u001b[1;33m]\u001b[0m\u001b[1;33m)\u001b[0m\u001b[1;33m\u001b[0m\u001b[1;33m\u001b[0m\u001b[0m\n\u001b[1;32m----> 2\u001b[1;33m \u001b[0mD\u001b[0m\u001b[1;33m,\u001b[0m \u001b[0mV\u001b[0m \u001b[1;33m=\u001b[0m \u001b[0mnp\u001b[0m\u001b[1;33m.\u001b[0m\u001b[0mlinalg\u001b[0m\u001b[1;33m.\u001b[0m\u001b[0meig\u001b[0m\u001b[1;33m(\u001b[0m\u001b[0mA\u001b[0m\u001b[1;33m)\u001b[0m\u001b[1;33m\u001b[0m\u001b[1;33m\u001b[0m\u001b[0m\n\u001b[0m\u001b[0;32m      3\u001b[0m \u001b[0mprint\u001b[0m\u001b[1;33m(\u001b[0m\u001b[1;34m\"eigenvalues: \"\u001b[0m\u001b[1;33m,\u001b[0m \u001b[0mD\u001b[0m\u001b[1;33m)\u001b[0m\u001b[1;33m\u001b[0m\u001b[1;33m\u001b[0m\u001b[0m\n\u001b[0;32m      4\u001b[0m \u001b[0mprint\u001b[0m\u001b[1;33m(\u001b[0m\u001b[1;34m\"eigenvector: \"\u001b[0m\u001b[1;33m)\u001b[0m\u001b[1;33m\u001b[0m\u001b[1;33m\u001b[0m\u001b[0m\n\u001b[0;32m      5\u001b[0m \u001b[0mprint\u001b[0m\u001b[1;33m(\u001b[0m\u001b[0mV\u001b[0m\u001b[1;33m)\u001b[0m\u001b[1;33m\u001b[0m\u001b[1;33m\u001b[0m\u001b[0m\n",
      "\u001b[1;32m<__array_function__ internals>\u001b[0m in \u001b[0;36meig\u001b[1;34m(*args, **kwargs)\u001b[0m\n",
      "\u001b[1;32m~\\anaconda3\\lib\\site-packages\\numpy\\linalg\\linalg.py\u001b[0m in \u001b[0;36meig\u001b[1;34m(a)\u001b[0m\n\u001b[0;32m   1291\u001b[0m     \"\"\"\n\u001b[0;32m   1292\u001b[0m     \u001b[0ma\u001b[0m\u001b[1;33m,\u001b[0m \u001b[0mwrap\u001b[0m \u001b[1;33m=\u001b[0m \u001b[0m_makearray\u001b[0m\u001b[1;33m(\u001b[0m\u001b[0ma\u001b[0m\u001b[1;33m)\u001b[0m\u001b[1;33m\u001b[0m\u001b[1;33m\u001b[0m\u001b[0m\n\u001b[1;32m-> 1293\u001b[1;33m     \u001b[0m_assert_stacked_2d\u001b[0m\u001b[1;33m(\u001b[0m\u001b[0ma\u001b[0m\u001b[1;33m)\u001b[0m\u001b[1;33m\u001b[0m\u001b[1;33m\u001b[0m\u001b[0m\n\u001b[0m\u001b[0;32m   1294\u001b[0m     \u001b[0m_assert_stacked_square\u001b[0m\u001b[1;33m(\u001b[0m\u001b[0ma\u001b[0m\u001b[1;33m)\u001b[0m\u001b[1;33m\u001b[0m\u001b[1;33m\u001b[0m\u001b[0m\n\u001b[0;32m   1295\u001b[0m     \u001b[0m_assert_finite\u001b[0m\u001b[1;33m(\u001b[0m\u001b[0ma\u001b[0m\u001b[1;33m)\u001b[0m\u001b[1;33m\u001b[0m\u001b[1;33m\u001b[0m\u001b[0m\n",
      "\u001b[1;32m~\\anaconda3\\lib\\site-packages\\numpy\\linalg\\linalg.py\u001b[0m in \u001b[0;36m_assert_stacked_2d\u001b[1;34m(*arrays)\u001b[0m\n\u001b[0;32m    204\u001b[0m     \u001b[1;32mfor\u001b[0m \u001b[0ma\u001b[0m \u001b[1;32min\u001b[0m \u001b[0marrays\u001b[0m\u001b[1;33m:\u001b[0m\u001b[1;33m\u001b[0m\u001b[1;33m\u001b[0m\u001b[0m\n\u001b[0;32m    205\u001b[0m         \u001b[1;32mif\u001b[0m \u001b[0ma\u001b[0m\u001b[1;33m.\u001b[0m\u001b[0mndim\u001b[0m \u001b[1;33m<\u001b[0m \u001b[1;36m2\u001b[0m\u001b[1;33m:\u001b[0m\u001b[1;33m\u001b[0m\u001b[1;33m\u001b[0m\u001b[0m\n\u001b[1;32m--> 206\u001b[1;33m             raise LinAlgError('%d-dimensional array given. Array must be '\n\u001b[0m\u001b[0;32m    207\u001b[0m                     'at least two-dimensional' % a.ndim)\n\u001b[0;32m    208\u001b[0m \u001b[1;33m\u001b[0m\u001b[0m\n",
      "\u001b[1;31mLinAlgError\u001b[0m: 1-dimensional array given. Array must be at least two-dimensional"
     ]
    }
   ],
   "source": [
    "A = np.array([[1,0,0], [-1,2,1,5],[0,0,-1]])\n",
    "D, V = np.linalg.eig(A)\n",
    "print(\"eigenvalues: \", D)\n",
    "print(\"eigenvector: \")\n",
    "print(V)"
   ]
  },
  {
   "cell_type": "code",
   "execution_count": null,
   "metadata": {},
   "outputs": [],
   "source": []
  },
  {
   "cell_type": "markdown",
   "metadata": {},
   "source": [
    "#### from the above eigendecomposition conform an eigenvector and eigenvalue"
   ]
  },
  {
   "cell_type": "code",
   "execution_count": null,
   "metadata": {},
   "outputs": [],
   "source": []
  },
  {
   "cell_type": "markdown",
   "metadata": {},
   "source": [
    "#### Reconstruct the matrix from the Eigendecompostion"
   ]
  },
  {
   "cell_type": "code",
   "execution_count": null,
   "metadata": {},
   "outputs": [],
   "source": []
  },
  {
   "cell_type": "markdown",
   "metadata": {},
   "source": [
    "#### calculate the L1 norm for a 1x3 matrix"
   ]
  },
  {
   "cell_type": "code",
   "execution_count": null,
   "metadata": {},
   "outputs": [],
   "source": [
    "- "
   ]
  },
  {
   "cell_type": "code",
   "execution_count": 50,
   "metadata": {
    "ExecuteTime": {
     "end_time": "2020-11-19T19:54:02.335974Z",
     "start_time": "2020-11-19T19:54:02.313995Z"
    }
   },
   "outputs": [
    {
     "name": "stdout",
     "output_type": "stream",
     "text": [
      "[[0 1 2]]\n"
     ]
    },
    {
     "data": {
      "text/plain": [
       "2.0"
      ]
     },
     "execution_count": 50,
     "metadata": {},
     "output_type": "execute_result"
    }
   ],
   "source": [
    "mat= np.arange(3).reshape(1,3)\n",
    "print(mat)\n",
    "np.linalg.norm(mat,1)"
   ]
  },
  {
   "cell_type": "markdown",
   "metadata": {},
   "source": [
    "#### calculate the L2 norm for the 1x4 matrix\n",
    "- L2 form \n",
    "    - also known as Eucidean norm. it is the shortes distance to go from one point to another. \n",
    "\n"
   ]
  },
  {
   "cell_type": "code",
   "execution_count": 55,
   "metadata": {
    "ExecuteTime": {
     "end_time": "2020-11-19T20:55:21.096963Z",
     "start_time": "2020-11-19T20:55:21.074983Z"
    }
   },
   "outputs": [
    {
     "data": {
      "text/plain": [
       "9.0"
      ]
     },
     "execution_count": 55,
     "metadata": {},
     "output_type": "execute_result"
    }
   ],
   "source": [
    "x = np.array([2,6,5,4])\n",
    "np.linalg.norm(x,ord=2)\n"
   ]
  },
  {
   "cell_type": "code",
   "execution_count": 57,
   "metadata": {
    "ExecuteTime": {
     "end_time": "2020-11-19T20:56:18.171478Z",
     "start_time": "2020-11-19T20:56:18.150501Z"
    }
   },
   "outputs": [
    {
     "name": "stdout",
     "output_type": "stream",
     "text": [
      "[[1 2]\n",
      " [3 4]]\n"
     ]
    },
    {
     "data": {
      "text/plain": [
       "5.464985704219043"
      ]
     },
     "execution_count": 57,
     "metadata": {},
     "output_type": "execute_result"
    }
   ],
   "source": [
    "a= np.array([[1,2],[3,4]])\n",
    "print(a)\n",
    "np.linalg.norm(a, ord=2)"
   ]
  },
  {
   "cell_type": "code",
   "execution_count": null,
   "metadata": {},
   "outputs": [],
   "source": []
  }
 ],
 "metadata": {
  "kernelspec": {
   "display_name": "Python 3",
   "language": "python",
   "name": "python3"
  },
  "language_info": {
   "codemirror_mode": {
    "name": "ipython",
    "version": 3
   },
   "file_extension": ".py",
   "mimetype": "text/x-python",
   "name": "python",
   "nbconvert_exporter": "python",
   "pygments_lexer": "ipython3",
   "version": "3.8.3"
  },
  "toc": {
   "base_numbering": 1,
   "nav_menu": {},
   "number_sections": true,
   "sideBar": true,
   "skip_h1_title": false,
   "title_cell": "Table of Contents",
   "title_sidebar": "Contents",
   "toc_cell": false,
   "toc_position": {},
   "toc_section_display": true,
   "toc_window_display": false
  },
  "varInspector": {
   "cols": {
    "lenName": 16,
    "lenType": 16,
    "lenVar": 40
   },
   "kernels_config": {
    "python": {
     "delete_cmd_postfix": "",
     "delete_cmd_prefix": "del ",
     "library": "var_list.py",
     "varRefreshCmd": "print(var_dic_list())"
    },
    "r": {
     "delete_cmd_postfix": ") ",
     "delete_cmd_prefix": "rm(",
     "library": "var_list.r",
     "varRefreshCmd": "cat(var_dic_list()) "
    }
   },
   "types_to_exclude": [
    "module",
    "function",
    "builtin_function_or_method",
    "instance",
    "_Feature"
   ],
   "window_display": false
  }
 },
 "nbformat": 4,
 "nbformat_minor": 4
}
